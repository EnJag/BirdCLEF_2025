{
 "cells": [
  {
   "cell_type": "code",
   "execution_count": 63,
   "id": "e3c510b3",
   "metadata": {},
   "outputs": [],
   "source": [
    "import os\n",
    "import glob\n",
    "import pandas as pd\n",
    "import geopandas as gpd\n",
    "import matplotlib.pyplot as plt\n",
    "\n",
    "from shapely.geometry import Point"
   ]
  },
  {
   "cell_type": "code",
   "execution_count": 25,
   "id": "0a87cfa5",
   "metadata": {},
   "outputs": [
    {
     "name": "stdout",
     "output_type": "stream",
     "text": [
      "Index(['primary_label', 'secondary_labels', 'type', 'filename', 'collection',\n",
      "       'rating', 'url', 'latitude', 'longitude', 'scientific_name',\n",
      "       'common_name', 'author', 'license'],\n",
      "      dtype='object') \n",
      " 28564\n"
     ]
    }
   ],
   "source": [
    "meta_train = pd.read_csv(\"train.csv\")\n",
    "print(meta_train.columns, '\\n', len(meta_train))"
   ]
  },
  {
   "cell_type": "code",
   "execution_count": 18,
   "id": "b8cdb168",
   "metadata": {},
   "outputs": [
    {
     "data": {
      "text/plain": [
       "28564"
      ]
     },
     "execution_count": 18,
     "metadata": {},
     "output_type": "execute_result"
    }
   ],
   "source": [
    "l = []\n",
    "for folder in os.listdir('train_audio'):\n",
    "    for file in glob.glob(os.path.join('train_audio', folder, '*')):\n",
    "        l.append(file)\n",
    "len(l)"
   ]
  },
  {
   "cell_type": "code",
   "execution_count": 23,
   "id": "d4579c60",
   "metadata": {},
   "outputs": [
    {
     "data": {
      "text/plain": [
       "(array([7948.,   26.,  228.,   70.,  752.,  360., 2886.,  895., 7582.,\n",
       "        7817.]),\n",
       " array([0. , 0.5, 1. , 1.5, 2. , 2.5, 3. , 3.5, 4. , 4.5, 5. ]),\n",
       " <BarContainer object of 10 artists>)"
      ]
     },
     "execution_count": 23,
     "metadata": {},
     "output_type": "execute_result"
    },
    {
     "data": {
      "image/png": "[encoded data removed]",
      "text/plain": [
       "<Figure size 640x480 with 1 Axes>"
      ]
     },
     "metadata": {},
     "output_type": "display_data"
    }
   ],
   "source": [
    "plt.hist(meta_train['rating'])"
   ]
  },
  {
   "cell_type": "code",
   "execution_count": 28,
   "id": "e80d1f41",
   "metadata": {},
   "outputs": [
    {
     "data": {
      "text/plain": [
       "206"
      ]
     },
     "execution_count": 28,
     "metadata": {},
     "output_type": "execute_result"
    }
   ],
   "source": [
    "len(meta_train['primary_label'].unique())"
   ]
  },
  {
   "cell_type": "code",
   "execution_count": 30,
   "id": "37fc18fb",
   "metadata": {},
   "outputs": [
    {
     "data": {
      "text/plain": [
       "primary_label\n",
       "grekis     990\n",
       "compau     808\n",
       "trokin     787\n",
       "roahaw     709\n",
       "banana     610\n",
       "          ... \n",
       "42113        2\n",
       "21116        2\n",
       "1139490      2\n",
       "21038        2\n",
       "64862        2\n",
       "Name: count, Length: 206, dtype: int64"
      ]
     },
     "execution_count": 30,
     "metadata": {},
     "output_type": "execute_result"
    }
   ],
   "source": [
    "meta_train['primary_label'].value_counts()"
   ]
  },
  {
   "cell_type": "code",
   "execution_count": 32,
   "id": "2bce30c2",
   "metadata": {},
   "outputs": [
    {
     "name": "stdout",
     "output_type": "stream",
     "text": [
      "19180 0.6714745833916819\n"
     ]
    }
   ],
   "source": [
    "meta_train_good_rating = meta_train[meta_train['rating']>=3]\n",
    "print(len(meta_train_good_rating), len(meta_train_good_rating)/len(meta_train))"
   ]
  },
  {
   "cell_type": "code",
   "execution_count": 33,
   "id": "f5408f6c",
   "metadata": {},
   "outputs": [
    {
     "data": {
      "text/plain": [
       "primary_label\n",
       "grekis     477\n",
       "roahaw     463\n",
       "yeofly1    452\n",
       "banana     425\n",
       "trokin     420\n",
       "          ... \n",
       "46010        1\n",
       "65547        1\n",
       "65962        1\n",
       "134933       1\n",
       "plctan1      1\n",
       "Name: count, Length: 170, dtype: int64"
      ]
     },
     "execution_count": 33,
     "metadata": {},
     "output_type": "execute_result"
    }
   ],
   "source": [
    "meta_train_good_rating['primary_label'].value_counts()"
   ]
  },
  {
   "cell_type": "code",
   "execution_count": 36,
   "id": "0ae3bb8c",
   "metadata": {},
   "outputs": [
    {
     "data": {
      "text/plain": [
       "(array([42.,  5.,  5.,  4.,  6., 13., 26., 38., 51., 16.]),\n",
       " array([0.        , 0.41666667, 0.83333333, 1.25      , 1.66666667,\n",
       "        2.08333333, 2.5       , 2.91666667, 3.33333333, 3.75      ,\n",
       "        4.16666667]),\n",
       " <BarContainer object of 10 artists>)"
      ]
     },
     "execution_count": 36,
     "metadata": {},
     "output_type": "execute_result"
    },
    {
     "data": {
      "image/png": "[encoded data removed]",
      "text/plain": [
       "<Figure size 640x480 with 1 Axes>"
      ]
     },
     "metadata": {},
     "output_type": "display_data"
    }
   ],
   "source": [
    "plt.hist(meta_train.groupby('primary_label').mean('rating')['rating'])"
   ]
  },
  {
   "cell_type": "markdown",
   "id": "c2dbdb49",
   "metadata": {},
   "source": [
    "Est-ce que le rating est différent selon la classe d'animal ?"
   ]
  },
  {
   "cell_type": "code",
   "execution_count": 37,
   "id": "33d96dc6",
   "metadata": {},
   "outputs": [],
   "source": [
    "taxonomy = pd.read_csv('taxonomy.csv')"
   ]
  },
  {
   "cell_type": "code",
   "execution_count": 38,
   "id": "bde89695",
   "metadata": {},
   "outputs": [],
   "source": [
    "meta_train_taxonomy = pd.merge(meta_train, taxonomy, on='primary_label')"
   ]
  },
  {
   "cell_type": "code",
   "execution_count": 45,
   "id": "8c073ef3",
   "metadata": {},
   "outputs": [
    {
     "data": {
      "text/plain": [
       "class_name\n",
       "Amphibia    0.952830\n",
       "Aves        2.992025\n",
       "Insecta     0.000000\n",
       "Mammalia    0.247191\n",
       "Name: rating, dtype: float64"
      ]
     },
     "execution_count": 45,
     "metadata": {},
     "output_type": "execute_result"
    }
   ],
   "source": [
    "meta_train_taxonomy.groupby('class_name').mean('rating')['rating']"
   ]
  },
  {
   "cell_type": "code",
   "execution_count": 46,
   "id": "9c391854",
   "metadata": {},
   "outputs": [
    {
     "data": {
      "text/plain": [
       "primary_label\n",
       "grekis     990\n",
       "compau     808\n",
       "trokin     787\n",
       "roahaw     709\n",
       "banana     610\n",
       "          ... \n",
       "42113        2\n",
       "21116        2\n",
       "1139490      2\n",
       "21038        2\n",
       "64862        2\n",
       "Name: count, Length: 206, dtype: int64"
      ]
     },
     "execution_count": 46,
     "metadata": {},
     "output_type": "execute_result"
    }
   ],
   "source": [
    "meta_train_taxonomy['primary_label'].value_counts()"
   ]
  },
  {
   "cell_type": "code",
   "execution_count": 51,
   "id": "bc0cfb00",
   "metadata": {},
   "outputs": [
    {
     "name": "stdout",
     "output_type": "stream",
     "text": [
      "27648 0.9679316622321804\n",
      "19031 0.6883318865740741\n"
     ]
    }
   ],
   "source": [
    "meta_train_aves = meta_train_taxonomy[meta_train_taxonomy['class_name']=='Aves']\n",
    "meta_train_aves_good_rating = meta_train_aves[meta_train_aves['rating']>=3]\n",
    "print(len(meta_train_aves), len(meta_train_aves)/len(meta_train_taxonomy))\n",
    "print(len(meta_train_aves_good_rating), len(meta_train_aves_good_rating)/len(meta_train_aves))"
   ]
  },
  {
   "cell_type": "code",
   "execution_count": 50,
   "id": "2d0109fc",
   "metadata": {},
   "outputs": [
    {
     "data": {
      "text/plain": [
       "primary_label\n",
       "grekis     990\n",
       "compau     808\n",
       "trokin     787\n",
       "roahaw     709\n",
       "banana     610\n",
       "          ... \n",
       "shghum1     15\n",
       "sahpar1     14\n",
       "norscr1     14\n",
       "turvul      11\n",
       "plctan1      6\n",
       "Name: count, Length: 146, dtype: int64"
      ]
     },
     "execution_count": 50,
     "metadata": {},
     "output_type": "execute_result"
    }
   ],
   "source": [
    "meta_train_aves['primary_label'].value_counts()"
   ]
  },
  {
   "cell_type": "code",
   "execution_count": 49,
   "id": "79300ae1",
   "metadata": {},
   "outputs": [
    {
     "data": {
      "text/plain": [
       "primary_label\n",
       "grekis     477\n",
       "roahaw     463\n",
       "yeofly1    452\n",
       "banana     425\n",
       "trokin     420\n",
       "          ... \n",
       "rutpuf1     13\n",
       "norscr1     11\n",
       "sahpar1      8\n",
       "turvul       5\n",
       "plctan1      1\n",
       "Name: count, Length: 146, dtype: int64"
      ]
     },
     "execution_count": 49,
     "metadata": {},
     "output_type": "execute_result"
    }
   ],
   "source": [
    "meta_train_aves_good_rating['primary_label'].value_counts()"
   ]
  },
  {
   "cell_type": "code",
   "execution_count": 52,
   "id": "05381f09",
   "metadata": {},
   "outputs": [],
   "source": [
    "data = {'all':meta_train_aves['primary_label'].value_counts(), 'ratings_sup_3':meta_train_aves_good_rating['primary_label'].value_counts()}\n",
    "values_counts = pd.DataFrame(data)"
   ]
  },
  {
   "cell_type": "code",
   "execution_count": 54,
   "id": "4ba0138e",
   "metadata": {},
   "outputs": [
    {
     "data": {
      "text/html": [
       "<div>\n",
       "<style scoped>\n",
       "    .dataframe tbody tr th:only-of-type {\n",
       "        vertical-align: middle;\n",
       "    }\n",
       "\n",
       "    .dataframe tbody tr th {\n",
       "        vertical-align: top;\n",
       "    }\n",
       "\n",
       "    .dataframe thead th {\n",
       "        text-align: right;\n",
       "    }\n",
       "</style>\n",
       "<table border=\"1\" class=\"dataframe\">\n",
       "  <thead>\n",
       "    <tr style=\"text-align: right;\">\n",
       "      <th></th>\n",
       "      <th>all</th>\n",
       "      <th>ratings_sup_3</th>\n",
       "      <th>proportion</th>\n",
       "    </tr>\n",
       "    <tr>\n",
       "      <th>primary_label</th>\n",
       "      <th></th>\n",
       "      <th></th>\n",
       "      <th></th>\n",
       "    </tr>\n",
       "  </thead>\n",
       "  <tbody>\n",
       "    <tr>\n",
       "      <th>amakin1</th>\n",
       "      <td>89</td>\n",
       "      <td>75</td>\n",
       "      <td>0.842697</td>\n",
       "    </tr>\n",
       "    <tr>\n",
       "      <th>amekes</th>\n",
       "      <td>409</td>\n",
       "      <td>127</td>\n",
       "      <td>0.310513</td>\n",
       "    </tr>\n",
       "    <tr>\n",
       "      <th>ampkin1</th>\n",
       "      <td>28</td>\n",
       "      <td>24</td>\n",
       "      <td>0.857143</td>\n",
       "    </tr>\n",
       "    <tr>\n",
       "      <th>anhing</th>\n",
       "      <td>91</td>\n",
       "      <td>57</td>\n",
       "      <td>0.626374</td>\n",
       "    </tr>\n",
       "    <tr>\n",
       "      <th>babwar</th>\n",
       "      <td>167</td>\n",
       "      <td>71</td>\n",
       "      <td>0.425150</td>\n",
       "    </tr>\n",
       "    <tr>\n",
       "      <th>...</th>\n",
       "      <td>...</td>\n",
       "      <td>...</td>\n",
       "      <td>...</td>\n",
       "    </tr>\n",
       "    <tr>\n",
       "      <th>yehcar1</th>\n",
       "      <td>238</td>\n",
       "      <td>155</td>\n",
       "      <td>0.651261</td>\n",
       "    </tr>\n",
       "    <tr>\n",
       "      <th>yelori1</th>\n",
       "      <td>60</td>\n",
       "      <td>47</td>\n",
       "      <td>0.783333</td>\n",
       "    </tr>\n",
       "    <tr>\n",
       "      <th>yeofly1</th>\n",
       "      <td>525</td>\n",
       "      <td>452</td>\n",
       "      <td>0.860952</td>\n",
       "    </tr>\n",
       "    <tr>\n",
       "      <th>yercac1</th>\n",
       "      <td>302</td>\n",
       "      <td>261</td>\n",
       "      <td>0.864238</td>\n",
       "    </tr>\n",
       "    <tr>\n",
       "      <th>ywcpar</th>\n",
       "      <td>142</td>\n",
       "      <td>108</td>\n",
       "      <td>0.760563</td>\n",
       "    </tr>\n",
       "  </tbody>\n",
       "</table>\n",
       "<p>146 rows × 3 columns</p>\n",
       "</div>"
      ],
      "text/plain": [
       "               all  ratings_sup_3  proportion\n",
       "primary_label                                \n",
       "amakin1         89             75    0.842697\n",
       "amekes         409            127    0.310513\n",
       "ampkin1         28             24    0.857143\n",
       "anhing          91             57    0.626374\n",
       "babwar         167             71    0.425150\n",
       "...            ...            ...         ...\n",
       "yehcar1        238            155    0.651261\n",
       "yelori1         60             47    0.783333\n",
       "yeofly1        525            452    0.860952\n",
       "yercac1        302            261    0.864238\n",
       "ywcpar         142            108    0.760563\n",
       "\n",
       "[146 rows x 3 columns]"
      ]
     },
     "execution_count": 54,
     "metadata": {},
     "output_type": "execute_result"
    }
   ],
   "source": [
    "values_counts['proportion'] = values_counts['ratings_sup_3'] / values_counts['all']\n",
    "values_counts"
   ]
  },
  {
   "cell_type": "code",
   "execution_count": 55,
   "id": "d4d710ee",
   "metadata": {},
   "outputs": [
    {
     "data": {
      "text/plain": [
       "(array([ 1.,  1.,  1.,  8.,  9., 21., 22., 51., 28.,  4.]),\n",
       " array([0.16666667, 0.25      , 0.33333333, 0.41666667, 0.5       ,\n",
       "        0.58333333, 0.66666667, 0.75      , 0.83333333, 0.91666667,\n",
       "        1.        ]),\n",
       " <BarContainer object of 10 artists>)"
      ]
     },
     "execution_count": 55,
     "metadata": {},
     "output_type": "execute_result"
    },
    {
     "data": {
      "image/png": "[encoded data removed]",
      "text/plain": [
       "<Figure size 640x480 with 1 Axes>"
      ]
     },
     "metadata": {},
     "output_type": "display_data"
    }
   ],
   "source": [
    "plt.hist(values_counts['proportion'])"
   ]
  },
  {
   "cell_type": "code",
   "execution_count": 56,
   "id": "d84bc213",
   "metadata": {},
   "outputs": [
    {
     "data": {
      "text/plain": [
       "0.02054794520547945"
      ]
     },
     "execution_count": 56,
     "metadata": {},
     "output_type": "execute_result"
    }
   ],
   "source": [
    "len(values_counts[values_counts['proportion']<=0.4])/len(values_counts)"
   ]
  },
  {
   "cell_type": "markdown",
   "id": "cfbe81c2",
   "metadata": {},
   "source": [
    "longitude, latitude ?"
   ]
  },
  {
   "cell_type": "code",
   "execution_count": null,
   "id": "e31067a4",
   "metadata": {},
   "outputs": [
    {
     "name": "stdout",
     "output_type": "stream",
     "text": [
      "  DPTO             NOMBRE_DPT          AREA    PERIMETER     HECTARES  \\\n",
      "0   05              ANTIOQUIA  6.335186e+10  1963728.843  6335185.555   \n",
      "1   08              ATLANTICO  3.360765e+09   240936.172   336076.535   \n",
      "2   11  SANTAFE DE BOGOTA D.C  1.650948e+09   323322.540   165094.778   \n",
      "3   13                BOLIVAR  2.614189e+10  1309427.968  2614189.453   \n",
      "4   15                 BOYACA  2.335258e+10  1364539.911  2335258.246   \n",
      "\n",
      "                                            geometry  \n",
      "0  POLYGON ((-76.3073 8.6193, -76.2981 8.6164, -7...  \n",
      "1  POLYGON ((-74.8706 10.3612, -74.8764 10.3433, ...  \n",
      "2  POLYGON ((-74.0229 4.7951, -74.0264 4.7836, -7...  \n",
      "3  POLYGON ((-75.1595 10.4236, -75.1543 10.4097, ...  \n",
      "4  POLYGON ((-72.213 7.0275, -72.2061 7.0246, -72...  \n"
     ]
    },
    {
     "data": {
      "image/png": "[encoded data removed]",
      "text/plain": [
       "<Figure size 640x480 with 1 Axes>"
      ]
     },
     "metadata": {},
     "output_type": "display_data"
    }
   ],
   "source": [
    "colombie = gpd.read_file('colombie.geojson')\n",
    "colombie.plot()\n",
    "plt.show()"
   ]
  },
  {
   "cell_type": "code",
   "execution_count": 66,
   "id": "607d2d2d",
   "metadata": {},
   "outputs": [
    {
     "data": {
      "image/png": "[encoded data removed]",
      "text/plain": [
       "<Figure size 640x480 with 1 Axes>"
      ]
     },
     "metadata": {},
     "output_type": "display_data"
    }
   ],
   "source": [
    "geometry = [Point(xy) for xy in zip(meta_train['longitude'], meta_train['latitude'])]\n",
    "\n",
    "# Create a GeoDataFrame\n",
    "meta_train_gdf = gpd.GeoDataFrame(meta_train, geometry=geometry)\n",
    "\n",
    "meta_train_gdf.plot(marker='o', color='red', markersize=5)\n",
    "plt.title('Locations on Map')\n",
    "plt.xlabel('Longitude')\n",
    "plt.ylabel('Latitude')\n",
    "plt.show()"
   ]
  },
  {
   "cell_type": "code",
   "execution_count": 68,
   "id": "75085486",
   "metadata": {},
   "outputs": [
    {
     "data": {
      "text/plain": [
       "<Axes: >"
      ]
     },
     "execution_count": 68,
     "metadata": {},
     "output_type": "execute_result"
    },
    {
     "data": {
      "image/png": "[encoded data removed]",
      "text/plain": [
       "<Figure size 1000x1000 with 1 Axes>"
      ]
     },
     "metadata": {},
     "output_type": "display_data"
    }
   ],
   "source": [
    "fig, ax = plt.subplots(figsize=(10, 10))\n",
    "\n",
    "# Plot the map\n",
    "colombie.plot(ax=ax, color='lightgrey', edgecolor='black')\n",
    "\n",
    "# Plot the points\n",
    "meta_train_gdf.plot(ax=ax, marker='o', color='red', markersize=1)"
   ]
  }
 ],
 "metadata": {
  "kernelspec": {
   "display_name": "venv_bird",
   "language": "python",
   "name": "python3"
  },
  "language_info": {
   "codemirror_mode": {
    "name": "ipython",
    "version": 3
   },
   "file_extension": ".py",
   "mimetype": "text/x-python",
   "name": "python",
   "nbconvert_exporter": "python",
   "pygments_lexer": "ipython3",
   "version": "3.12.3"
  }
 },
 "nbformat": 4,
 "nbformat_minor": 5
}
